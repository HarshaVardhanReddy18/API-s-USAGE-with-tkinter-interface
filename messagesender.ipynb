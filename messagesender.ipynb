{
 "cells": [
  {
   "cell_type": "code",
   "execution_count": null,
   "metadata": {},
   "outputs": [],
   "source": [
    "#YW7O24JPR20NMCFBHIHNJ5C8J5Q117CQ\n",
    "#45WIHDAEUWSJ1EA2"
   ]
  },
  {
   "cell_type": "code",
   "execution_count": 2,
   "metadata": {},
   "outputs": [],
   "source": [
    "import requests\n",
    "import json"
   ]
  },
  {
   "cell_type": "code",
   "execution_count": 6,
   "metadata": {},
   "outputs": [],
   "source": [
    "url = 'http://www.sms4india.com/api/v1/sendCampaign'\n",
    "\n",
    "def send(reqUrl,apiKey,secretKey,useType,phoneNo,senderId,textMessage):\n",
    "    req_params = {\n",
    "        'apikey':apiKey,'secret':secretKey,'usetype':useType,'phone':phoneNo,'message':textMessage,'senderid':senderId\n",
    "    }\n",
    "    return requests.post(reqUrl, req_params)\n",
    "\n",
    "response = send(url,'YW7O24JPR20NMCFBHIHNJ5C8J5Q117CQ','45WIHDAEUWSJ1EA2','stage','9959221581','nani000018@gmail.com',\"LOVE LOVE\")\n"
   ]
  },
  {
   "cell_type": "code",
   "execution_count": null,
   "metadata": {},
   "outputs": [],
   "source": []
  }
 ],
 "metadata": {
  "kernelspec": {
   "display_name": "Python 3",
   "language": "python",
   "name": "python3"
  },
  "language_info": {
   "codemirror_mode": {
    "name": "ipython",
    "version": 3
   },
   "file_extension": ".py",
   "mimetype": "text/x-python",
   "name": "python",
   "nbconvert_exporter": "python",
   "pygments_lexer": "ipython3",
   "version": "3.7.6"
  }
 },
 "nbformat": 4,
 "nbformat_minor": 4
}
