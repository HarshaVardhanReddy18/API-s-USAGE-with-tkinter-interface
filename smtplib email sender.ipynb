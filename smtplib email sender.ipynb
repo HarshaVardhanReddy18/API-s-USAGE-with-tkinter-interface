{
 "cells": [
  {
   "cell_type": "code",
   "execution_count": 4,
   "metadata": {},
   "outputs": [
    {
     "name": "stdout",
     "output_type": "stream",
     "text": [
      "Success E-mail sent\n"
     ]
    }
   ],
   "source": [
    "import smtplib\n",
    "pas = password\n",
    "def sendemail(subject,msg):\n",
    "    try:\n",
    "        server = smtplib.SMTP('smtp.gmail.com:587')\n",
    "        server.ehlo()\n",
    "        server.starttls()\n",
    "        server.login('aegon018@gmail.com', pas)\n",
    "        message = 'Subject : {} \\n\\n {}'.format(subject,msg)\n",
    "        server.sendmail('aegon018@gmail.com', 'yhvreddy2000@gmail.com',message)\n",
    "        server.quit()\n",
    "        print('Success E-mail sent')\n",
    "    except:\n",
    "        print(\"E-mail send failed\")\n",
    "        \n",
    "subject = 'Tst Subject'\n",
    "msg = c\n",
    "\n",
    "sendemail(subject,msg)"
   ]
  },
  {
   "cell_type": "code",
   "execution_count": null,
   "metadata": {},
   "outputs": [],
   "source": []
  }
 ],
 "metadata": {
  "kernelspec": {
   "display_name": "Python 3",
   "language": "python",
   "name": "python3"
  },
  "language_info": {
   "codemirror_mode": {
    "name": "ipython",
    "version": 3
   },
   "file_extension": ".py",
   "mimetype": "text/x-python",
   "name": "python",
   "nbconvert_exporter": "python",
   "pygments_lexer": "ipython3",
   "version": "3.7.6"
  }
 },
 "nbformat": 4,
 "nbformat_minor": 4
}
